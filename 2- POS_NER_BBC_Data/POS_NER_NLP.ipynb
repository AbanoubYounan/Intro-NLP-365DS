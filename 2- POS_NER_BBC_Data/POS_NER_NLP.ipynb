{
 "cells": [
  {
   "cell_type": "code",
   "execution_count": 28,
   "id": "85b45f1a",
   "metadata": {},
   "outputs": [],
   "source": [
    "# !python -m spacy download en_core_web_sm"
   ]
  },
  {
   "cell_type": "code",
   "execution_count": 25,
   "id": "b6911ce8",
   "metadata": {},
   "outputs": [
    {
     "name": "stderr",
     "output_type": "stream",
     "text": [
      "[nltk_data] Downloading package stopwords to\n",
      "[nltk_data]     C:\\Users\\AY7\\AppData\\Roaming\\nltk_data...\n",
      "[nltk_data]   Package stopwords is already up-to-date!\n"
     ]
    },
    {
     "data": {
      "text/plain": [
       "True"
      ]
     },
     "execution_count": 25,
     "metadata": {},
     "output_type": "execute_result"
    }
   ],
   "source": [
    "import pandas as pd\n",
    "import spacy\n",
    "import re\n",
    "import nltk\n",
    "from nltk import word_tokenize\n",
    "from nltk.corpus import stopwords\n",
    "from nltk.stem import PorterStemmer\n",
    "from nltk.stem import WordNetLemmatizer\n",
    "import spacy\n",
    " \n",
    "nltk.download('stopwords')"
   ]
  },
  {
   "cell_type": "code",
   "execution_count": 2,
   "id": "f1c2eb03",
   "metadata": {},
   "outputs": [
    {
     "data": {
      "text/html": [
       "<div>\n",
       "<style scoped>\n",
       "    .dataframe tbody tr th:only-of-type {\n",
       "        vertical-align: middle;\n",
       "    }\n",
       "\n",
       "    .dataframe tbody tr th {\n",
       "        vertical-align: top;\n",
       "    }\n",
       "\n",
       "    .dataframe thead th {\n",
       "        text-align: right;\n",
       "    }\n",
       "</style>\n",
       "<table border=\"1\" class=\"dataframe\">\n",
       "  <thead>\n",
       "    <tr style=\"text-align: right;\">\n",
       "      <th></th>\n",
       "      <th>Unnamed: 0</th>\n",
       "      <th>index</th>\n",
       "      <th>title</th>\n",
       "      <th>pubDate</th>\n",
       "      <th>guid</th>\n",
       "      <th>link</th>\n",
       "      <th>description</th>\n",
       "    </tr>\n",
       "  </thead>\n",
       "  <tbody>\n",
       "    <tr>\n",
       "      <th>0</th>\n",
       "      <td>0</td>\n",
       "      <td>6684</td>\n",
       "      <td>Can I refuse to work?</td>\n",
       "      <td>Wed, 10 Aug 2022 15:46:18 GMT</td>\n",
       "      <td>https://www.bbc.co.uk/news/business-62147992</td>\n",
       "      <td>https://www.bbc.co.uk/news/business-62147992?a...</td>\n",
       "      <td>With much of the UK enduring another period of...</td>\n",
       "    </tr>\n",
       "    <tr>\n",
       "      <th>1</th>\n",
       "      <td>1</td>\n",
       "      <td>9267</td>\n",
       "      <td>'Liz Truss the Brief?' World reacts to UK poli...</td>\n",
       "      <td>Mon, 17 Oct 2022 11:35:12 GMT</td>\n",
       "      <td>https://www.bbc.co.uk/news/world-63285480</td>\n",
       "      <td>https://www.bbc.co.uk/news/world-63285480?at_m...</td>\n",
       "      <td>The UK's political chaos has been watched arou...</td>\n",
       "    </tr>\n",
       "    <tr>\n",
       "      <th>2</th>\n",
       "      <td>2</td>\n",
       "      <td>7387</td>\n",
       "      <td>Rationing energy is nothing new for off-grid c...</td>\n",
       "      <td>Wed, 31 Aug 2022 05:20:18 GMT</td>\n",
       "      <td>https://www.bbc.co.uk/news/uk-scotland-highlan...</td>\n",
       "      <td>https://www.bbc.co.uk/news/uk-scotland-highlan...</td>\n",
       "      <td>Scoraig in the north west Highlands has long h...</td>\n",
       "    </tr>\n",
       "    <tr>\n",
       "      <th>3</th>\n",
       "      <td>3</td>\n",
       "      <td>767</td>\n",
       "      <td>The hunt for superyachts of sanctioned Russian...</td>\n",
       "      <td>Tue, 22 Mar 2022 14:37:01 GMT</td>\n",
       "      <td>https://www.bbc.co.uk/news/60739336</td>\n",
       "      <td>https://www.bbc.co.uk/news/60739336?at_medium=...</td>\n",
       "      <td>Wealthy Russians sanctioned by the US, EU and ...</td>\n",
       "    </tr>\n",
       "    <tr>\n",
       "      <th>4</th>\n",
       "      <td>4</td>\n",
       "      <td>3712</td>\n",
       "      <td>Platinum Jubilee: 70 years of the Queen in 70 ...</td>\n",
       "      <td>Wed, 01 Jun 2022 23:17:33 GMT</td>\n",
       "      <td>https://www.bbc.co.uk/news/uk-61660128</td>\n",
       "      <td>https://www.bbc.co.uk/news/uk-61660128?at_medi...</td>\n",
       "      <td>A quick look back at the Queen's 70 years on t...</td>\n",
       "    </tr>\n",
       "  </tbody>\n",
       "</table>\n",
       "</div>"
      ],
      "text/plain": [
       "   Unnamed: 0  index                                              title  \\\n",
       "0           0   6684                              Can I refuse to work?   \n",
       "1           1   9267  'Liz Truss the Brief?' World reacts to UK poli...   \n",
       "2           2   7387  Rationing energy is nothing new for off-grid c...   \n",
       "3           3    767  The hunt for superyachts of sanctioned Russian...   \n",
       "4           4   3712  Platinum Jubilee: 70 years of the Queen in 70 ...   \n",
       "\n",
       "                         pubDate  \\\n",
       "0  Wed, 10 Aug 2022 15:46:18 GMT   \n",
       "1  Mon, 17 Oct 2022 11:35:12 GMT   \n",
       "2  Wed, 31 Aug 2022 05:20:18 GMT   \n",
       "3  Tue, 22 Mar 2022 14:37:01 GMT   \n",
       "4  Wed, 01 Jun 2022 23:17:33 GMT   \n",
       "\n",
       "                                                guid  \\\n",
       "0       https://www.bbc.co.uk/news/business-62147992   \n",
       "1          https://www.bbc.co.uk/news/world-63285480   \n",
       "2  https://www.bbc.co.uk/news/uk-scotland-highlan...   \n",
       "3                https://www.bbc.co.uk/news/60739336   \n",
       "4             https://www.bbc.co.uk/news/uk-61660128   \n",
       "\n",
       "                                                link  \\\n",
       "0  https://www.bbc.co.uk/news/business-62147992?a...   \n",
       "1  https://www.bbc.co.uk/news/world-63285480?at_m...   \n",
       "2  https://www.bbc.co.uk/news/uk-scotland-highlan...   \n",
       "3  https://www.bbc.co.uk/news/60739336?at_medium=...   \n",
       "4  https://www.bbc.co.uk/news/uk-61660128?at_medi...   \n",
       "\n",
       "                                         description  \n",
       "0  With much of the UK enduring another period of...  \n",
       "1  The UK's political chaos has been watched arou...  \n",
       "2  Scoraig in the north west Highlands has long h...  \n",
       "3  Wealthy Russians sanctioned by the US, EU and ...  \n",
       "4  A quick look back at the Queen's 70 years on t...  "
      ]
     },
     "execution_count": 2,
     "metadata": {},
     "output_type": "execute_result"
    }
   ],
   "source": [
    "df = pd.read_csv('bbc_news.csv')\n",
    "df.head()"
   ]
  },
  {
   "cell_type": "code",
   "execution_count": 3,
   "id": "adadc94e",
   "metadata": {},
   "outputs": [],
   "source": [
    "df['raw_tokens'] = df['description'].apply(lambda s: word_tokenize(s))"
   ]
  },
  {
   "cell_type": "code",
   "execution_count": 4,
   "id": "66dfe862",
   "metadata": {},
   "outputs": [
    {
     "data": {
      "text/plain": [
       "['With',\n",
       " 'much',\n",
       " 'of',\n",
       " 'the',\n",
       " 'UK',\n",
       " 'enduring',\n",
       " 'another',\n",
       " 'period',\n",
       " 'of',\n",
       " 'hot',\n",
       " 'weather',\n",
       " ',',\n",
       " 'some',\n",
       " 'workers',\n",
       " 'will',\n",
       " 'face',\n",
       " 'very',\n",
       " 'high',\n",
       " 'temperatures',\n",
       " '.']"
      ]
     },
     "execution_count": 4,
     "metadata": {},
     "output_type": "execute_result"
    }
   ],
   "source": [
    "df['raw_tokens'][0]"
   ]
  },
  {
   "cell_type": "code",
   "execution_count": 5,
   "id": "504bdaae",
   "metadata": {},
   "outputs": [],
   "source": [
    "df['description_lower'] = df['description'].str.lower()"
   ]
  },
  {
   "cell_type": "markdown",
   "id": "e82e7455",
   "metadata": {},
   "source": [
    "## Remove stop words:"
   ]
  },
  {
   "cell_type": "code",
   "execution_count": 66,
   "id": "f7818315",
   "metadata": {},
   "outputs": [],
   "source": [
    "stop_words = set(stopwords.words('english'))\n",
    "\n",
    "df['description_lower_no_stopwords'] = df['description_lower'].apply(lambda s: ' '.join([w for w in s.split() if w not in stop_words]))"
   ]
  },
  {
   "cell_type": "code",
   "execution_count": 67,
   "id": "848146ee",
   "metadata": {},
   "outputs": [
    {
     "data": {
      "text/plain": [
       "'much uk enduring another period hot weather, workers face high temperatures.'"
      ]
     },
     "execution_count": 67,
     "metadata": {},
     "output_type": "execute_result"
    }
   ],
   "source": [
    "df['description_lower_no_stopwords'][0]"
   ]
  },
  {
   "cell_type": "markdown",
   "id": "7d7270f3",
   "metadata": {},
   "source": [
    "## Remove Punctuation:"
   ]
  },
  {
   "cell_type": "code",
   "execution_count": 68,
   "id": "d5deafed",
   "metadata": {},
   "outputs": [],
   "source": [
    "df['description_lower_no_stopwords_no_punc'] = df['description_lower_no_stopwords'].apply(lambda s: re.sub(r'[^\\w\\s]', '', s))"
   ]
  },
  {
   "cell_type": "code",
   "execution_count": 69,
   "id": "f80fa8dd",
   "metadata": {},
   "outputs": [
    {
     "data": {
      "text/plain": [
       "'much uk enduring another period hot weather workers face high temperatures'"
      ]
     },
     "execution_count": 69,
     "metadata": {},
     "output_type": "execute_result"
    }
   ],
   "source": [
    "df['description_lower_no_stopwords_no_punc'][0]"
   ]
  },
  {
   "cell_type": "markdown",
   "id": "2d107180",
   "metadata": {},
   "source": [
    "## Tokenize preproccesed sentences: "
   ]
  },
  {
   "cell_type": "code",
   "execution_count": 70,
   "id": "7a99f7b0",
   "metadata": {},
   "outputs": [],
   "source": [
    "df['preproccesed_tokens'] = df['description_lower_no_stopwords_no_punc'].apply(lambda s: word_tokenize(s))"
   ]
  },
  {
   "cell_type": "code",
   "execution_count": 71,
   "id": "4a20a502",
   "metadata": {},
   "outputs": [
    {
     "data": {
      "text/plain": [
       "['much',\n",
       " 'uk',\n",
       " 'enduring',\n",
       " 'another',\n",
       " 'period',\n",
       " 'hot',\n",
       " 'weather',\n",
       " 'workers',\n",
       " 'face',\n",
       " 'high',\n",
       " 'temperatures']"
      ]
     },
     "execution_count": 71,
     "metadata": {},
     "output_type": "execute_result"
    }
   ],
   "source": [
    "df['preproccesed_tokens'][0]"
   ]
  },
  {
   "cell_type": "markdown",
   "id": "7382c2ea",
   "metadata": {},
   "source": [
    "## Stemming:"
   ]
  },
  {
   "cell_type": "code",
   "execution_count": 72,
   "id": "30bccfe3",
   "metadata": {},
   "outputs": [],
   "source": [
    "ps = PorterStemmer()\n",
    "df['stemmed_preproccesed_tokens'] = df['preproccesed_tokens'].apply(lambda s: [ps.stem(w) for w in s])"
   ]
  },
  {
   "cell_type": "code",
   "execution_count": 73,
   "id": "d1792c30",
   "metadata": {},
   "outputs": [
    {
     "data": {
      "text/plain": [
       "['much',\n",
       " 'uk',\n",
       " 'endur',\n",
       " 'anoth',\n",
       " 'period',\n",
       " 'hot',\n",
       " 'weather',\n",
       " 'worker',\n",
       " 'face',\n",
       " 'high',\n",
       " 'temperatur']"
      ]
     },
     "execution_count": 73,
     "metadata": {},
     "output_type": "execute_result"
    }
   ],
   "source": [
    "df['stemmed_preproccesed_tokens'][0]"
   ]
  },
  {
   "cell_type": "markdown",
   "id": "52409d74",
   "metadata": {},
   "source": [
    "## Lemmatization:"
   ]
  },
  {
   "cell_type": "code",
   "execution_count": 74,
   "id": "ac577f5c",
   "metadata": {},
   "outputs": [],
   "source": [
    "lemmatizer = WordNetLemmatizer()\n",
    "df['lemmatized_preproccesed_tokens'] = df['preproccesed_tokens'].apply(lambda s: [lemmatizer.lemmatize(w) for w in s])"
   ]
  },
  {
   "cell_type": "code",
   "execution_count": 75,
   "id": "d409c7a5",
   "metadata": {},
   "outputs": [
    {
     "data": {
      "text/plain": [
       "['much',\n",
       " 'uk',\n",
       " 'enduring',\n",
       " 'another',\n",
       " 'period',\n",
       " 'hot',\n",
       " 'weather',\n",
       " 'worker',\n",
       " 'face',\n",
       " 'high',\n",
       " 'temperature']"
      ]
     },
     "execution_count": 75,
     "metadata": {},
     "output_type": "execute_result"
    }
   ],
   "source": [
    "df['lemmatized_preproccesed_tokens'][0]"
   ]
  },
  {
   "cell_type": "markdown",
   "id": "94b7597d",
   "metadata": {},
   "source": [
    "## Extract POS(Parts-Of-Speech) Tagging:"
   ]
  },
  {
   "cell_type": "code",
   "execution_count": 76,
   "id": "92a04568",
   "metadata": {},
   "outputs": [],
   "source": [
    "nlp = spacy.load(\"en_core_web_sm\") "
   ]
  },
  {
   "cell_type": "code",
   "execution_count": 77,
   "id": "a6314f72",
   "metadata": {},
   "outputs": [],
   "source": [
    "raw_tokens_list = sum(df['raw_tokens'], [])\n",
    "processed_tokens_list = sum(df['lemmatized_preproccesed_tokens'], [])"
   ]
  },
  {
   "cell_type": "code",
   "execution_count": 78,
   "id": "3f07cc3b",
   "metadata": {},
   "outputs": [],
   "source": [
    "raw_spacy_doc = nlp(' '.join([token for token in raw_tokens_list]))\n",
    "processed_spacy_doc = nlp(' '.join([token for token in processed_tokens_list]))"
   ]
  },
  {
   "cell_type": "code",
   "execution_count": 79,
   "id": "77c28f72",
   "metadata": {},
   "outputs": [
    {
     "data": {
      "text/html": [
       "<div>\n",
       "<style scoped>\n",
       "    .dataframe tbody tr th:only-of-type {\n",
       "        vertical-align: middle;\n",
       "    }\n",
       "\n",
       "    .dataframe tbody tr th {\n",
       "        vertical-align: top;\n",
       "    }\n",
       "\n",
       "    .dataframe thead th {\n",
       "        text-align: right;\n",
       "    }\n",
       "</style>\n",
       "<table border=\"1\" class=\"dataframe\">\n",
       "  <thead>\n",
       "    <tr style=\"text-align: right;\">\n",
       "      <th></th>\n",
       "      <th>token</th>\n",
       "      <th>pos_tag</th>\n",
       "    </tr>\n",
       "  </thead>\n",
       "  <tbody>\n",
       "  </tbody>\n",
       "</table>\n",
       "</div>"
      ],
      "text/plain": [
       "Empty DataFrame\n",
       "Columns: [token, pos_tag]\n",
       "Index: []"
      ]
     },
     "execution_count": 79,
     "metadata": {},
     "output_type": "execute_result"
    }
   ],
   "source": [
    "raw_pos_df = pd.DataFrame(columns = ['token', 'pos_tag'])\n",
    "raw_pos_df.head()"
   ]
  },
  {
   "cell_type": "code",
   "execution_count": 98,
   "id": "dd073550",
   "metadata": {},
   "outputs": [
    {
     "data": {
      "text/plain": [
       "[{'token': 'With', 'pos_tag': 'ADP'},\n",
       " {'token': 'much', 'pos_tag': 'ADJ'},\n",
       " {'token': 'of', 'pos_tag': 'ADP'},\n",
       " {'token': 'the', 'pos_tag': 'DET'},\n",
       " {'token': 'UK', 'pos_tag': 'PROPN'}]"
      ]
     },
     "execution_count": 98,
     "metadata": {},
     "output_type": "execute_result"
    }
   ],
   "source": [
    "raw_records = []\n",
    "for token in raw_spacy_doc:\n",
    "    raw_records.append({'token': token.text, 'pos_tag': token.pos_})\n",
    "raw_records[:5]"
   ]
  },
  {
   "cell_type": "code",
   "execution_count": 81,
   "id": "cb4a0422",
   "metadata": {},
   "outputs": [
    {
     "data": {
      "text/html": [
       "<div>\n",
       "<style scoped>\n",
       "    .dataframe tbody tr th:only-of-type {\n",
       "        vertical-align: middle;\n",
       "    }\n",
       "\n",
       "    .dataframe tbody tr th {\n",
       "        vertical-align: top;\n",
       "    }\n",
       "\n",
       "    .dataframe thead th {\n",
       "        text-align: right;\n",
       "    }\n",
       "</style>\n",
       "<table border=\"1\" class=\"dataframe\">\n",
       "  <thead>\n",
       "    <tr style=\"text-align: right;\">\n",
       "      <th></th>\n",
       "      <th>token</th>\n",
       "      <th>pos_tag</th>\n",
       "    </tr>\n",
       "  </thead>\n",
       "  <tbody>\n",
       "    <tr>\n",
       "      <th>0</th>\n",
       "      <td>With</td>\n",
       "      <td>ADP</td>\n",
       "    </tr>\n",
       "    <tr>\n",
       "      <th>1</th>\n",
       "      <td>much</td>\n",
       "      <td>ADJ</td>\n",
       "    </tr>\n",
       "    <tr>\n",
       "      <th>2</th>\n",
       "      <td>of</td>\n",
       "      <td>ADP</td>\n",
       "    </tr>\n",
       "    <tr>\n",
       "      <th>3</th>\n",
       "      <td>the</td>\n",
       "      <td>DET</td>\n",
       "    </tr>\n",
       "    <tr>\n",
       "      <th>4</th>\n",
       "      <td>UK</td>\n",
       "      <td>PROPN</td>\n",
       "    </tr>\n",
       "  </tbody>\n",
       "</table>\n",
       "</div>"
      ],
      "text/plain": [
       "  token pos_tag\n",
       "0  With     ADP\n",
       "1  much     ADJ\n",
       "2    of     ADP\n",
       "3   the     DET\n",
       "4    UK   PROPN"
      ]
     },
     "execution_count": 81,
     "metadata": {},
     "output_type": "execute_result"
    }
   ],
   "source": [
    "raw_pos_df = pd.concat([raw_pos_df, pd.DataFrame(raw_records)])\n",
    "raw_pos_df.head()"
   ]
  },
  {
   "cell_type": "code",
   "execution_count": 82,
   "id": "b60e21ef",
   "metadata": {},
   "outputs": [
    {
     "data": {
      "text/plain": [
       "(20354, 2)"
      ]
     },
     "execution_count": 82,
     "metadata": {},
     "output_type": "execute_result"
    }
   ],
   "source": [
    "raw_pos_df.shape"
   ]
  },
  {
   "cell_type": "code",
   "execution_count": 83,
   "id": "4d50e6a1",
   "metadata": {},
   "outputs": [
    {
     "data": {
      "text/html": [
       "<div>\n",
       "<style scoped>\n",
       "    .dataframe tbody tr th:only-of-type {\n",
       "        vertical-align: middle;\n",
       "    }\n",
       "\n",
       "    .dataframe tbody tr th {\n",
       "        vertical-align: top;\n",
       "    }\n",
       "\n",
       "    .dataframe thead th {\n",
       "        text-align: right;\n",
       "    }\n",
       "</style>\n",
       "<table border=\"1\" class=\"dataframe\">\n",
       "  <thead>\n",
       "    <tr style=\"text-align: right;\">\n",
       "      <th></th>\n",
       "      <th>token</th>\n",
       "      <th>pos_tag</th>\n",
       "    </tr>\n",
       "  </thead>\n",
       "  <tbody>\n",
       "  </tbody>\n",
       "</table>\n",
       "</div>"
      ],
      "text/plain": [
       "Empty DataFrame\n",
       "Columns: [token, pos_tag]\n",
       "Index: []"
      ]
     },
     "execution_count": 83,
     "metadata": {},
     "output_type": "execute_result"
    }
   ],
   "source": [
    "processed_pos_df = pd.DataFrame(columns = ['token', 'pos_tag'])\n",
    "processed_pos_df.head()"
   ]
  },
  {
   "cell_type": "code",
   "execution_count": 84,
   "id": "b784af86",
   "metadata": {},
   "outputs": [
    {
     "data": {
      "text/plain": [
       "[{'token': 'much', 'pos_tag': 'ADV'},\n",
       " {'token': 'uk', 'pos_tag': 'PROPN'},\n",
       " {'token': 'enduring', 'pos_tag': 'VERB'},\n",
       " {'token': 'another', 'pos_tag': 'DET'},\n",
       " {'token': 'period', 'pos_tag': 'NOUN'}]"
      ]
     },
     "execution_count": 84,
     "metadata": {},
     "output_type": "execute_result"
    }
   ],
   "source": [
    "processed_records = []\n",
    "for token in processed_spacy_doc:\n",
    "    processed_records.append({'token': token.text, 'pos_tag': token.pos_})\n",
    "processed_records[:5]"
   ]
  },
  {
   "cell_type": "code",
   "execution_count": 85,
   "id": "6b41c268",
   "metadata": {},
   "outputs": [
    {
     "data": {
      "text/html": [
       "<div>\n",
       "<style scoped>\n",
       "    .dataframe tbody tr th:only-of-type {\n",
       "        vertical-align: middle;\n",
       "    }\n",
       "\n",
       "    .dataframe tbody tr th {\n",
       "        vertical-align: top;\n",
       "    }\n",
       "\n",
       "    .dataframe thead th {\n",
       "        text-align: right;\n",
       "    }\n",
       "</style>\n",
       "<table border=\"1\" class=\"dataframe\">\n",
       "  <thead>\n",
       "    <tr style=\"text-align: right;\">\n",
       "      <th></th>\n",
       "      <th>token</th>\n",
       "      <th>pos_tag</th>\n",
       "    </tr>\n",
       "  </thead>\n",
       "  <tbody>\n",
       "    <tr>\n",
       "      <th>0</th>\n",
       "      <td>much</td>\n",
       "      <td>ADV</td>\n",
       "    </tr>\n",
       "    <tr>\n",
       "      <th>1</th>\n",
       "      <td>uk</td>\n",
       "      <td>PROPN</td>\n",
       "    </tr>\n",
       "    <tr>\n",
       "      <th>2</th>\n",
       "      <td>enduring</td>\n",
       "      <td>VERB</td>\n",
       "    </tr>\n",
       "    <tr>\n",
       "      <th>3</th>\n",
       "      <td>another</td>\n",
       "      <td>DET</td>\n",
       "    </tr>\n",
       "    <tr>\n",
       "      <th>4</th>\n",
       "      <td>period</td>\n",
       "      <td>NOUN</td>\n",
       "    </tr>\n",
       "  </tbody>\n",
       "</table>\n",
       "</div>"
      ],
      "text/plain": [
       "      token pos_tag\n",
       "0      much     ADV\n",
       "1        uk   PROPN\n",
       "2  enduring    VERB\n",
       "3   another     DET\n",
       "4    period    NOUN"
      ]
     },
     "execution_count": 85,
     "metadata": {},
     "output_type": "execute_result"
    }
   ],
   "source": [
    "processed_pos_df = pd.concat([processed_pos_df, pd.DataFrame(processed_records)])\n",
    "processed_pos_df.head()"
   ]
  },
  {
   "cell_type": "code",
   "execution_count": 86,
   "id": "a9ea29bd",
   "metadata": {},
   "outputs": [
    {
     "data": {
      "text/plain": [
       "(11147, 2)"
      ]
     },
     "execution_count": 86,
     "metadata": {},
     "output_type": "execute_result"
    }
   ],
   "source": [
    "processed_pos_df.shape"
   ]
  },
  {
   "cell_type": "code",
   "execution_count": 87,
   "id": "618e3474",
   "metadata": {},
   "outputs": [
    {
     "data": {
      "text/html": [
       "<div>\n",
       "<style scoped>\n",
       "    .dataframe tbody tr th:only-of-type {\n",
       "        vertical-align: middle;\n",
       "    }\n",
       "\n",
       "    .dataframe tbody tr th {\n",
       "        vertical-align: top;\n",
       "    }\n",
       "\n",
       "    .dataframe thead th {\n",
       "        text-align: right;\n",
       "    }\n",
       "</style>\n",
       "<table border=\"1\" class=\"dataframe\">\n",
       "  <thead>\n",
       "    <tr style=\"text-align: right;\">\n",
       "      <th></th>\n",
       "      <th>token</th>\n",
       "      <th>pos_tag</th>\n",
       "    </tr>\n",
       "  </thead>\n",
       "  <tbody>\n",
       "    <tr>\n",
       "      <th>2</th>\n",
       "      <td>enduring</td>\n",
       "      <td>VERB</td>\n",
       "    </tr>\n",
       "    <tr>\n",
       "      <th>8</th>\n",
       "      <td>face</td>\n",
       "      <td>VERB</td>\n",
       "    </tr>\n",
       "    <tr>\n",
       "      <th>14</th>\n",
       "      <td>watched</td>\n",
       "      <td>VERB</td>\n",
       "    </tr>\n",
       "    <tr>\n",
       "      <th>18</th>\n",
       "      <td>held</td>\n",
       "      <td>VERB</td>\n",
       "    </tr>\n",
       "    <tr>\n",
       "      <th>25</th>\n",
       "      <td>make</td>\n",
       "      <td>VERB</td>\n",
       "    </tr>\n",
       "    <tr>\n",
       "      <th>...</th>\n",
       "      <td>...</td>\n",
       "      <td>...</td>\n",
       "    </tr>\n",
       "    <tr>\n",
       "      <th>11128</th>\n",
       "      <td>say</td>\n",
       "      <td>VERB</td>\n",
       "    </tr>\n",
       "    <tr>\n",
       "      <th>11129</th>\n",
       "      <td>want</td>\n",
       "      <td>VERB</td>\n",
       "    </tr>\n",
       "    <tr>\n",
       "      <th>11133</th>\n",
       "      <td>help</td>\n",
       "      <td>VERB</td>\n",
       "    </tr>\n",
       "    <tr>\n",
       "      <th>11140</th>\n",
       "      <td>defrauded</td>\n",
       "      <td>VERB</td>\n",
       "    </tr>\n",
       "    <tr>\n",
       "      <th>11146</th>\n",
       "      <td>find</td>\n",
       "      <td>VERB</td>\n",
       "    </tr>\n",
       "  </tbody>\n",
       "</table>\n",
       "<p>1982 rows × 2 columns</p>\n",
       "</div>"
      ],
      "text/plain": [
       "           token pos_tag\n",
       "2       enduring    VERB\n",
       "8           face    VERB\n",
       "14       watched    VERB\n",
       "18          held    VERB\n",
       "25          make    VERB\n",
       "...          ...     ...\n",
       "11128        say    VERB\n",
       "11129       want    VERB\n",
       "11133       help    VERB\n",
       "11140  defrauded    VERB\n",
       "11146       find    VERB\n",
       "\n",
       "[1982 rows x 2 columns]"
      ]
     },
     "execution_count": 87,
     "metadata": {},
     "output_type": "execute_result"
    }
   ],
   "source": [
    "processed_pos_df.loc[(processed_pos_df['pos_tag'] == 'VERB')]"
   ]
  },
  {
   "cell_type": "code",
   "execution_count": 90,
   "id": "045d7876",
   "metadata": {},
   "outputs": [
    {
     "data": {
      "text/html": [
       "<div>\n",
       "<style scoped>\n",
       "    .dataframe tbody tr th:only-of-type {\n",
       "        vertical-align: middle;\n",
       "    }\n",
       "\n",
       "    .dataframe tbody tr th {\n",
       "        vertical-align: top;\n",
       "    }\n",
       "\n",
       "    .dataframe thead th {\n",
       "        text-align: right;\n",
       "    }\n",
       "</style>\n",
       "<table border=\"1\" class=\"dataframe\">\n",
       "  <thead>\n",
       "    <tr style=\"text-align: right;\">\n",
       "      <th></th>\n",
       "      <th>token</th>\n",
       "      <th>pos_tag</th>\n",
       "      <th>counts</th>\n",
       "    </tr>\n",
       "  </thead>\n",
       "  <tbody>\n",
       "    <tr>\n",
       "      <th>23</th>\n",
       "      <td>.</td>\n",
       "      <td>PUNCT</td>\n",
       "      <td>966</td>\n",
       "    </tr>\n",
       "    <tr>\n",
       "      <th>5072</th>\n",
       "      <td>the</td>\n",
       "      <td>DET</td>\n",
       "      <td>837</td>\n",
       "    </tr>\n",
       "    <tr>\n",
       "      <th>3972</th>\n",
       "      <td>of</td>\n",
       "      <td>ADP</td>\n",
       "      <td>421</td>\n",
       "    </tr>\n",
       "    <tr>\n",
       "      <th>16</th>\n",
       "      <td>,</td>\n",
       "      <td>PUNCT</td>\n",
       "      <td>397</td>\n",
       "    </tr>\n",
       "    <tr>\n",
       "      <th>1878</th>\n",
       "      <td>a</td>\n",
       "      <td>DET</td>\n",
       "      <td>380</td>\n",
       "    </tr>\n",
       "    <tr>\n",
       "      <th>3445</th>\n",
       "      <td>in</td>\n",
       "      <td>ADP</td>\n",
       "      <td>377</td>\n",
       "    </tr>\n",
       "    <tr>\n",
       "      <th>2008</th>\n",
       "      <td>and</td>\n",
       "      <td>CCONJ</td>\n",
       "      <td>334</td>\n",
       "    </tr>\n",
       "    <tr>\n",
       "      <th>5122</th>\n",
       "      <td>to</td>\n",
       "      <td>PART</td>\n",
       "      <td>315</td>\n",
       "    </tr>\n",
       "    <tr>\n",
       "      <th>12</th>\n",
       "      <td>'s</td>\n",
       "      <td>PART</td>\n",
       "      <td>268</td>\n",
       "    </tr>\n",
       "    <tr>\n",
       "      <th>20</th>\n",
       "      <td>-</td>\n",
       "      <td>PUNCT</td>\n",
       "      <td>246</td>\n",
       "    </tr>\n",
       "  </tbody>\n",
       "</table>\n",
       "</div>"
      ],
      "text/plain": [
       "     token pos_tag  counts\n",
       "23       .   PUNCT     966\n",
       "5072   the     DET     837\n",
       "3972    of     ADP     421\n",
       "16       ,   PUNCT     397\n",
       "1878     a     DET     380\n",
       "3445    in     ADP     377\n",
       "2008   and   CCONJ     334\n",
       "5122    to    PART     315\n",
       "12      's    PART     268\n",
       "20       -   PUNCT     246"
      ]
     },
     "execution_count": 90,
     "metadata": {},
     "output_type": "execute_result"
    }
   ],
   "source": [
    "raw_pos_count_df = raw_pos_df.groupby(['token', 'pos_tag']).size().reset_index(name = 'counts').sort_values(by='counts', ascending = False)\n",
    "raw_pos_count_df.head(10)"
   ]
  },
  {
   "cell_type": "code",
   "execution_count": 91,
   "id": "e8985fc2",
   "metadata": {},
   "outputs": [
    {
     "data": {
      "text/html": [
       "<div>\n",
       "<style scoped>\n",
       "    .dataframe tbody tr th:only-of-type {\n",
       "        vertical-align: middle;\n",
       "    }\n",
       "\n",
       "    .dataframe tbody tr th {\n",
       "        vertical-align: top;\n",
       "    }\n",
       "\n",
       "    .dataframe thead th {\n",
       "        text-align: right;\n",
       "    }\n",
       "</style>\n",
       "<table border=\"1\" class=\"dataframe\">\n",
       "  <thead>\n",
       "    <tr style=\"text-align: right;\">\n",
       "      <th></th>\n",
       "      <th>token</th>\n",
       "      <th>pos_tag</th>\n",
       "      <th>counts</th>\n",
       "    </tr>\n",
       "  </thead>\n",
       "  <tbody>\n",
       "    <tr>\n",
       "      <th>4020</th>\n",
       "      <td>say</td>\n",
       "      <td>VERB</td>\n",
       "      <td>157</td>\n",
       "    </tr>\n",
       "    <tr>\n",
       "      <th>1590</th>\n",
       "      <td>england</td>\n",
       "      <td>PROPN</td>\n",
       "      <td>68</td>\n",
       "    </tr>\n",
       "    <tr>\n",
       "      <th>4791</th>\n",
       "      <td>uk</td>\n",
       "      <td>PROPN</td>\n",
       "      <td>49</td>\n",
       "    </tr>\n",
       "    <tr>\n",
       "      <th>3418</th>\n",
       "      <td>people</td>\n",
       "      <td>NOUN</td>\n",
       "      <td>47</td>\n",
       "    </tr>\n",
       "    <tr>\n",
       "      <th>3271</th>\n",
       "      <td>one</td>\n",
       "      <td>NUM</td>\n",
       "      <td>46</td>\n",
       "    </tr>\n",
       "    <tr>\n",
       "      <th>5121</th>\n",
       "      <td>year</td>\n",
       "      <td>NOUN</td>\n",
       "      <td>44</td>\n",
       "    </tr>\n",
       "    <tr>\n",
       "      <th>1193</th>\n",
       "      <td>cup</td>\n",
       "      <td>PROPN</td>\n",
       "      <td>43</td>\n",
       "    </tr>\n",
       "    <tr>\n",
       "      <th>560</th>\n",
       "      <td>bbc</td>\n",
       "      <td>PROPN</td>\n",
       "      <td>42</td>\n",
       "    </tr>\n",
       "    <tr>\n",
       "      <th>5098</th>\n",
       "      <td>world</td>\n",
       "      <td>PROPN</td>\n",
       "      <td>41</td>\n",
       "    </tr>\n",
       "    <tr>\n",
       "      <th>5082</th>\n",
       "      <td>woman</td>\n",
       "      <td>NOUN</td>\n",
       "      <td>32</td>\n",
       "    </tr>\n",
       "  </tbody>\n",
       "</table>\n",
       "</div>"
      ],
      "text/plain": [
       "        token pos_tag  counts\n",
       "4020      say    VERB     157\n",
       "1590  england   PROPN      68\n",
       "4791       uk   PROPN      49\n",
       "3418   people    NOUN      47\n",
       "3271      one     NUM      46\n",
       "5121     year    NOUN      44\n",
       "1193      cup   PROPN      43\n",
       "560       bbc   PROPN      42\n",
       "5098    world   PROPN      41\n",
       "5082    woman    NOUN      32"
      ]
     },
     "execution_count": 91,
     "metadata": {},
     "output_type": "execute_result"
    }
   ],
   "source": [
    "processed_pos_count_df = processed_pos_df.groupby(['token', 'pos_tag']).size().reset_index(name = 'counts').sort_values(by='counts', ascending = False)\n",
    "processed_pos_count_df.head(10)"
   ]
  },
  {
   "cell_type": "code",
   "execution_count": 92,
   "id": "aff51e1a",
   "metadata": {},
   "outputs": [
    {
     "data": {
      "text/html": [
       "<div>\n",
       "<style scoped>\n",
       "    .dataframe tbody tr th:only-of-type {\n",
       "        vertical-align: middle;\n",
       "    }\n",
       "\n",
       "    .dataframe tbody tr th {\n",
       "        vertical-align: top;\n",
       "    }\n",
       "\n",
       "    .dataframe thead th {\n",
       "        text-align: right;\n",
       "    }\n",
       "</style>\n",
       "<table border=\"1\" class=\"dataframe\">\n",
       "  <thead>\n",
       "    <tr style=\"text-align: right;\">\n",
       "      <th></th>\n",
       "      <th>token</th>\n",
       "      <th>pos_tag</th>\n",
       "      <th>counts</th>\n",
       "    </tr>\n",
       "  </thead>\n",
       "  <tbody>\n",
       "    <tr>\n",
       "      <th>4607</th>\n",
       "      <td>says</td>\n",
       "      <td>VERB</td>\n",
       "      <td>123</td>\n",
       "    </tr>\n",
       "    <tr>\n",
       "      <th>4605</th>\n",
       "      <td>say</td>\n",
       "      <td>VERB</td>\n",
       "      <td>42</td>\n",
       "    </tr>\n",
       "    <tr>\n",
       "      <th>2165</th>\n",
       "      <td>beat</td>\n",
       "      <td>VERB</td>\n",
       "      <td>19</td>\n",
       "    </tr>\n",
       "    <tr>\n",
       "      <th>5012</th>\n",
       "      <td>take</td>\n",
       "      <td>VERB</td>\n",
       "      <td>19</td>\n",
       "    </tr>\n",
       "    <tr>\n",
       "      <th>3339</th>\n",
       "      <td>help</td>\n",
       "      <td>VERB</td>\n",
       "      <td>18</td>\n",
       "    </tr>\n",
       "    <tr>\n",
       "      <th>1805</th>\n",
       "      <td>Watch</td>\n",
       "      <td>VERB</td>\n",
       "      <td>17</td>\n",
       "    </tr>\n",
       "    <tr>\n",
       "      <th>5414</th>\n",
       "      <td>win</td>\n",
       "      <td>VERB</td>\n",
       "      <td>16</td>\n",
       "    </tr>\n",
       "    <tr>\n",
       "      <th>3310</th>\n",
       "      <td>have</td>\n",
       "      <td>VERB</td>\n",
       "      <td>15</td>\n",
       "    </tr>\n",
       "    <tr>\n",
       "      <th>3754</th>\n",
       "      <td>make</td>\n",
       "      <td>VERB</td>\n",
       "      <td>15</td>\n",
       "    </tr>\n",
       "    <tr>\n",
       "      <th>4530</th>\n",
       "      <td>rising</td>\n",
       "      <td>VERB</td>\n",
       "      <td>14</td>\n",
       "    </tr>\n",
       "  </tbody>\n",
       "</table>\n",
       "</div>"
      ],
      "text/plain": [
       "       token pos_tag  counts\n",
       "4607    says    VERB     123\n",
       "4605     say    VERB      42\n",
       "2165    beat    VERB      19\n",
       "5012    take    VERB      19\n",
       "3339    help    VERB      18\n",
       "1805   Watch    VERB      17\n",
       "5414     win    VERB      16\n",
       "3310    have    VERB      15\n",
       "3754    make    VERB      15\n",
       "4530  rising    VERB      14"
      ]
     },
     "execution_count": 92,
     "metadata": {},
     "output_type": "execute_result"
    }
   ],
   "source": [
    "raw_pos_count_df.loc[(raw_pos_count_df['pos_tag'] == 'VERB')].head(10)"
   ]
  },
  {
   "cell_type": "code",
   "execution_count": 93,
   "id": "a6295bd0",
   "metadata": {},
   "outputs": [
    {
     "data": {
      "text/html": [
       "<div>\n",
       "<style scoped>\n",
       "    .dataframe tbody tr th:only-of-type {\n",
       "        vertical-align: middle;\n",
       "    }\n",
       "\n",
       "    .dataframe tbody tr th {\n",
       "        vertical-align: top;\n",
       "    }\n",
       "\n",
       "    .dataframe thead th {\n",
       "        text-align: right;\n",
       "    }\n",
       "</style>\n",
       "<table border=\"1\" class=\"dataframe\">\n",
       "  <thead>\n",
       "    <tr style=\"text-align: right;\">\n",
       "      <th></th>\n",
       "      <th>token</th>\n",
       "      <th>pos_tag</th>\n",
       "      <th>counts</th>\n",
       "    </tr>\n",
       "  </thead>\n",
       "  <tbody>\n",
       "    <tr>\n",
       "      <th>4020</th>\n",
       "      <td>say</td>\n",
       "      <td>VERB</td>\n",
       "      <td>157</td>\n",
       "    </tr>\n",
       "    <tr>\n",
       "      <th>4534</th>\n",
       "      <td>take</td>\n",
       "      <td>VERB</td>\n",
       "      <td>24</td>\n",
       "    </tr>\n",
       "    <tr>\n",
       "      <th>2837</th>\n",
       "      <td>make</td>\n",
       "      <td>VERB</td>\n",
       "      <td>20</td>\n",
       "    </tr>\n",
       "    <tr>\n",
       "      <th>1805</th>\n",
       "      <td>find</td>\n",
       "      <td>VERB</td>\n",
       "      <td>18</td>\n",
       "    </tr>\n",
       "    <tr>\n",
       "      <th>1006</th>\n",
       "      <td>come</td>\n",
       "      <td>VERB</td>\n",
       "      <td>17</td>\n",
       "    </tr>\n",
       "    <tr>\n",
       "      <th>3897</th>\n",
       "      <td>rising</td>\n",
       "      <td>VERB</td>\n",
       "      <td>15</td>\n",
       "    </tr>\n",
       "    <tr>\n",
       "      <th>569</th>\n",
       "      <td>beat</td>\n",
       "      <td>VERB</td>\n",
       "      <td>14</td>\n",
       "    </tr>\n",
       "    <tr>\n",
       "      <th>4575</th>\n",
       "      <td>tell</td>\n",
       "      <td>VERB</td>\n",
       "      <td>13</td>\n",
       "    </tr>\n",
       "    <tr>\n",
       "      <th>4086</th>\n",
       "      <td>see</td>\n",
       "      <td>VERB</td>\n",
       "      <td>13</td>\n",
       "    </tr>\n",
       "    <tr>\n",
       "      <th>3987</th>\n",
       "      <td>said</td>\n",
       "      <td>VERB</td>\n",
       "      <td>13</td>\n",
       "    </tr>\n",
       "  </tbody>\n",
       "</table>\n",
       "</div>"
      ],
      "text/plain": [
       "       token pos_tag  counts\n",
       "4020     say    VERB     157\n",
       "4534    take    VERB      24\n",
       "2837    make    VERB      20\n",
       "1805    find    VERB      18\n",
       "1006    come    VERB      17\n",
       "3897  rising    VERB      15\n",
       "569     beat    VERB      14\n",
       "4575    tell    VERB      13\n",
       "4086     see    VERB      13\n",
       "3987    said    VERB      13"
      ]
     },
     "execution_count": 93,
     "metadata": {},
     "output_type": "execute_result"
    }
   ],
   "source": [
    "processed_pos_count_df.loc[(processed_pos_count_df['pos_tag'] == 'VERB')].head(10)"
   ]
  },
  {
   "cell_type": "code",
   "execution_count": 94,
   "id": "6a6c9bae",
   "metadata": {},
   "outputs": [
    {
     "data": {
      "text/html": [
       "<div>\n",
       "<style scoped>\n",
       "    .dataframe tbody tr th:only-of-type {\n",
       "        vertical-align: middle;\n",
       "    }\n",
       "\n",
       "    .dataframe tbody tr th {\n",
       "        vertical-align: top;\n",
       "    }\n",
       "\n",
       "    .dataframe thead th {\n",
       "        text-align: right;\n",
       "    }\n",
       "</style>\n",
       "<table border=\"1\" class=\"dataframe\">\n",
       "  <thead>\n",
       "    <tr style=\"text-align: right;\">\n",
       "      <th></th>\n",
       "      <th>token</th>\n",
       "      <th>pos_tag</th>\n",
       "      <th>counts</th>\n",
       "    </tr>\n",
       "  </thead>\n",
       "  <tbody>\n",
       "    <tr>\n",
       "      <th>4108</th>\n",
       "      <td>people</td>\n",
       "      <td>NOUN</td>\n",
       "      <td>45</td>\n",
       "    </tr>\n",
       "    <tr>\n",
       "      <th>5458</th>\n",
       "      <td>year</td>\n",
       "      <td>NOUN</td>\n",
       "      <td>38</td>\n",
       "    </tr>\n",
       "    <tr>\n",
       "      <th>5115</th>\n",
       "      <td>time</td>\n",
       "      <td>NOUN</td>\n",
       "      <td>31</td>\n",
       "    </tr>\n",
       "    <tr>\n",
       "      <th>5460</th>\n",
       "      <td>years</td>\n",
       "      <td>NOUN</td>\n",
       "      <td>26</td>\n",
       "    </tr>\n",
       "    <tr>\n",
       "      <th>2641</th>\n",
       "      <td>day</td>\n",
       "      <td>NOUN</td>\n",
       "      <td>19</td>\n",
       "    </tr>\n",
       "    <tr>\n",
       "      <th>5309</th>\n",
       "      <td>victory</td>\n",
       "      <td>NOUN</td>\n",
       "      <td>18</td>\n",
       "    </tr>\n",
       "    <tr>\n",
       "      <th>3238</th>\n",
       "      <td>government</td>\n",
       "      <td>NOUN</td>\n",
       "      <td>18</td>\n",
       "    </tr>\n",
       "    <tr>\n",
       "      <th>5356</th>\n",
       "      <td>war</td>\n",
       "      <td>NOUN</td>\n",
       "      <td>18</td>\n",
       "    </tr>\n",
       "    <tr>\n",
       "      <th>3621</th>\n",
       "      <td>leader</td>\n",
       "      <td>NOUN</td>\n",
       "      <td>18</td>\n",
       "    </tr>\n",
       "    <tr>\n",
       "      <th>4170</th>\n",
       "      <td>police</td>\n",
       "      <td>NOUN</td>\n",
       "      <td>18</td>\n",
       "    </tr>\n",
       "  </tbody>\n",
       "</table>\n",
       "</div>"
      ],
      "text/plain": [
       "           token pos_tag  counts\n",
       "4108      people    NOUN      45\n",
       "5458        year    NOUN      38\n",
       "5115        time    NOUN      31\n",
       "5460       years    NOUN      26\n",
       "2641         day    NOUN      19\n",
       "5309     victory    NOUN      18\n",
       "3238  government    NOUN      18\n",
       "5356         war    NOUN      18\n",
       "3621      leader    NOUN      18\n",
       "4170      police    NOUN      18"
      ]
     },
     "execution_count": 94,
     "metadata": {},
     "output_type": "execute_result"
    }
   ],
   "source": [
    "raw_pos_count_df.loc[(raw_pos_count_df['pos_tag'] == 'NOUN')].head(10)"
   ]
  },
  {
   "cell_type": "code",
   "execution_count": 95,
   "id": "ec3f05cc",
   "metadata": {},
   "outputs": [
    {
     "data": {
      "text/html": [
       "<div>\n",
       "<style scoped>\n",
       "    .dataframe tbody tr th:only-of-type {\n",
       "        vertical-align: middle;\n",
       "    }\n",
       "\n",
       "    .dataframe tbody tr th {\n",
       "        vertical-align: top;\n",
       "    }\n",
       "\n",
       "    .dataframe thead th {\n",
       "        text-align: right;\n",
       "    }\n",
       "</style>\n",
       "<table border=\"1\" class=\"dataframe\">\n",
       "  <thead>\n",
       "    <tr style=\"text-align: right;\">\n",
       "      <th></th>\n",
       "      <th>token</th>\n",
       "      <th>pos_tag</th>\n",
       "      <th>counts</th>\n",
       "    </tr>\n",
       "  </thead>\n",
       "  <tbody>\n",
       "    <tr>\n",
       "      <th>3418</th>\n",
       "      <td>people</td>\n",
       "      <td>NOUN</td>\n",
       "      <td>47</td>\n",
       "    </tr>\n",
       "    <tr>\n",
       "      <th>5121</th>\n",
       "      <td>year</td>\n",
       "      <td>NOUN</td>\n",
       "      <td>44</td>\n",
       "    </tr>\n",
       "    <tr>\n",
       "      <th>5082</th>\n",
       "      <td>woman</td>\n",
       "      <td>NOUN</td>\n",
       "      <td>32</td>\n",
       "    </tr>\n",
       "    <tr>\n",
       "      <th>1240</th>\n",
       "      <td>day</td>\n",
       "      <td>NOUN</td>\n",
       "      <td>31</td>\n",
       "    </tr>\n",
       "    <tr>\n",
       "      <th>3489</th>\n",
       "      <td>police</td>\n",
       "      <td>NOUN</td>\n",
       "      <td>27</td>\n",
       "    </tr>\n",
       "    <tr>\n",
       "      <th>2648</th>\n",
       "      <td>leader</td>\n",
       "      <td>NOUN</td>\n",
       "      <td>23</td>\n",
       "    </tr>\n",
       "    <tr>\n",
       "      <th>4647</th>\n",
       "      <td>time</td>\n",
       "      <td>NOUN</td>\n",
       "      <td>22</td>\n",
       "    </tr>\n",
       "    <tr>\n",
       "      <th>2233</th>\n",
       "      <td>home</td>\n",
       "      <td>NOUN</td>\n",
       "      <td>21</td>\n",
       "    </tr>\n",
       "    <tr>\n",
       "      <th>5097</th>\n",
       "      <td>world</td>\n",
       "      <td>NOUN</td>\n",
       "      <td>21</td>\n",
       "    </tr>\n",
       "    <tr>\n",
       "      <th>5008</th>\n",
       "      <td>week</td>\n",
       "      <td>NOUN</td>\n",
       "      <td>21</td>\n",
       "    </tr>\n",
       "  </tbody>\n",
       "</table>\n",
       "</div>"
      ],
      "text/plain": [
       "       token pos_tag  counts\n",
       "3418  people    NOUN      47\n",
       "5121    year    NOUN      44\n",
       "5082   woman    NOUN      32\n",
       "1240     day    NOUN      31\n",
       "3489  police    NOUN      27\n",
       "2648  leader    NOUN      23\n",
       "4647    time    NOUN      22\n",
       "2233    home    NOUN      21\n",
       "5097   world    NOUN      21\n",
       "5008    week    NOUN      21"
      ]
     },
     "execution_count": 95,
     "metadata": {},
     "output_type": "execute_result"
    }
   ],
   "source": [
    "processed_pos_count_df.loc[(processed_pos_count_df['pos_tag'] == 'NOUN')].head(10)"
   ]
  },
  {
   "cell_type": "code",
   "execution_count": 101,
   "id": "16a4ada1",
   "metadata": {},
   "outputs": [
    {
     "data": {
      "text/plain": [
       "[{'token': 'UK', 'label': 'GPE'},\n",
       " {'token': 'UK', 'label': 'GPE'},\n",
       " {'token': 'Russians', 'label': 'NORP'},\n",
       " {'token': 'US', 'label': 'GPE'},\n",
       " {'token': 'EU', 'label': 'GPE'}]"
      ]
     },
     "execution_count": 101,
     "metadata": {},
     "output_type": "execute_result"
    }
   ],
   "source": [
    "ner_raw_df = pd.DataFrame(columns = ['token', 'label'])\n",
    "raw_records = []\n",
    "for token in raw_spacy_doc.ents:\n",
    "    raw_records.append({'token': token.text, 'label': token.label_})\n",
    "raw_records[:5]"
   ]
  },
  {
   "cell_type": "code",
   "execution_count": 103,
   "id": "a3e71f66",
   "metadata": {},
   "outputs": [
    {
     "data": {
      "text/html": [
       "<div>\n",
       "<style scoped>\n",
       "    .dataframe tbody tr th:only-of-type {\n",
       "        vertical-align: middle;\n",
       "    }\n",
       "\n",
       "    .dataframe tbody tr th {\n",
       "        vertical-align: top;\n",
       "    }\n",
       "\n",
       "    .dataframe thead th {\n",
       "        text-align: right;\n",
       "    }\n",
       "</style>\n",
       "<table border=\"1\" class=\"dataframe\">\n",
       "  <thead>\n",
       "    <tr style=\"text-align: right;\">\n",
       "      <th></th>\n",
       "      <th>token</th>\n",
       "      <th>label</th>\n",
       "    </tr>\n",
       "  </thead>\n",
       "  <tbody>\n",
       "    <tr>\n",
       "      <th>0</th>\n",
       "      <td>UK</td>\n",
       "      <td>GPE</td>\n",
       "    </tr>\n",
       "    <tr>\n",
       "      <th>1</th>\n",
       "      <td>UK</td>\n",
       "      <td>GPE</td>\n",
       "    </tr>\n",
       "    <tr>\n",
       "      <th>2</th>\n",
       "      <td>Russians</td>\n",
       "      <td>NORP</td>\n",
       "    </tr>\n",
       "    <tr>\n",
       "      <th>3</th>\n",
       "      <td>US</td>\n",
       "      <td>GPE</td>\n",
       "    </tr>\n",
       "    <tr>\n",
       "      <th>4</th>\n",
       "      <td>EU</td>\n",
       "      <td>GPE</td>\n",
       "    </tr>\n",
       "  </tbody>\n",
       "</table>\n",
       "</div>"
      ],
      "text/plain": [
       "      token label\n",
       "0        UK   GPE\n",
       "1        UK   GPE\n",
       "2  Russians  NORP\n",
       "3        US   GPE\n",
       "4        EU   GPE"
      ]
     },
     "execution_count": 103,
     "metadata": {},
     "output_type": "execute_result"
    }
   ],
   "source": [
    "ner_raw_df = pd.concat([ner_raw_df, pd.DataFrame(raw_records)])\n",
    "ner_raw_df.head()"
   ]
  },
  {
   "cell_type": "code",
   "execution_count": 105,
   "id": "36c1054b",
   "metadata": {},
   "outputs": [
    {
     "data": {
      "text/plain": [
       "[{'token': 'scoraig', 'label': 'GPE'},\n",
       " {'token': 'russian', 'label': 'NORP'},\n",
       " {'token': 'eu', 'label': 'ORG'},\n",
       " {'token': '70 year', 'label': 'DATE'},\n",
       " {'token': 'jubilee speech red bull', 'label': 'ORG'}]"
      ]
     },
     "execution_count": 105,
     "metadata": {},
     "output_type": "execute_result"
    }
   ],
   "source": [
    "ner_processed_df = pd.DataFrame(columns = ['token', 'label'])\n",
    "processed_tokens = []\n",
    "for token in processed_spacy_doc.ents:\n",
    "    processed_tokens.append({'token': token.text, 'label': token.label_})\n",
    "processed_tokens[:5]"
   ]
  },
  {
   "cell_type": "code",
   "execution_count": 107,
   "id": "d3b16833",
   "metadata": {},
   "outputs": [
    {
     "data": {
      "text/html": [
       "<div>\n",
       "<style scoped>\n",
       "    .dataframe tbody tr th:only-of-type {\n",
       "        vertical-align: middle;\n",
       "    }\n",
       "\n",
       "    .dataframe tbody tr th {\n",
       "        vertical-align: top;\n",
       "    }\n",
       "\n",
       "    .dataframe thead th {\n",
       "        text-align: right;\n",
       "    }\n",
       "</style>\n",
       "<table border=\"1\" class=\"dataframe\">\n",
       "  <thead>\n",
       "    <tr style=\"text-align: right;\">\n",
       "      <th></th>\n",
       "      <th>token</th>\n",
       "      <th>label</th>\n",
       "    </tr>\n",
       "  </thead>\n",
       "  <tbody>\n",
       "    <tr>\n",
       "      <th>0</th>\n",
       "      <td>scoraig</td>\n",
       "      <td>GPE</td>\n",
       "    </tr>\n",
       "    <tr>\n",
       "      <th>1</th>\n",
       "      <td>russian</td>\n",
       "      <td>NORP</td>\n",
       "    </tr>\n",
       "    <tr>\n",
       "      <th>2</th>\n",
       "      <td>eu</td>\n",
       "      <td>ORG</td>\n",
       "    </tr>\n",
       "    <tr>\n",
       "      <th>3</th>\n",
       "      <td>70 year</td>\n",
       "      <td>DATE</td>\n",
       "    </tr>\n",
       "    <tr>\n",
       "      <th>4</th>\n",
       "      <td>jubilee speech red bull</td>\n",
       "      <td>ORG</td>\n",
       "    </tr>\n",
       "  </tbody>\n",
       "</table>\n",
       "</div>"
      ],
      "text/plain": [
       "                     token label\n",
       "0                  scoraig   GPE\n",
       "1                  russian  NORP\n",
       "2                       eu   ORG\n",
       "3                  70 year  DATE\n",
       "4  jubilee speech red bull   ORG"
      ]
     },
     "execution_count": 107,
     "metadata": {},
     "output_type": "execute_result"
    }
   ],
   "source": [
    "ner_processed_df = pd.concat([ner_processed_df, pd.DataFrame(processed_tokens)])\n",
    "ner_processed_df.head()"
   ]
  },
  {
   "cell_type": "code",
   "execution_count": 108,
   "id": "480642ff",
   "metadata": {},
   "outputs": [
    {
     "data": {
      "text/plain": [
       "GPE            548\n",
       "PERSON         492\n",
       "ORG            309\n",
       "DATE           268\n",
       "CARDINAL       197\n",
       "NORP           113\n",
       "ORDINAL         72\n",
       "EVENT           59\n",
       "LOC             23\n",
       "TIME            20\n",
       "MONEY           20\n",
       "FAC             20\n",
       "WORK_OF_ART     18\n",
       "PRODUCT         12\n",
       "PERCENT         11\n",
       "QUANTITY         7\n",
       "LAW              3\n",
       "LANGUAGE         1\n",
       "Name: label, dtype: int64"
      ]
     },
     "execution_count": 108,
     "metadata": {},
     "output_type": "execute_result"
    }
   ],
   "source": [
    "ner_raw_df['label'].value_counts()"
   ]
  },
  {
   "cell_type": "code",
   "execution_count": 109,
   "id": "03cd9835",
   "metadata": {},
   "outputs": [
    {
     "data": {
      "text/plain": [
       "CARDINAL       221\n",
       "PERSON         216\n",
       "DATE           212\n",
       "GPE            206\n",
       "ORG            114\n",
       "NORP           100\n",
       "ORDINAL         68\n",
       "EVENT           31\n",
       "TIME            13\n",
       "LOC             11\n",
       "QUANTITY         9\n",
       "FAC              2\n",
       "PRODUCT          1\n",
       "LAW              1\n",
       "WORK_OF_ART      1\n",
       "Name: label, dtype: int64"
      ]
     },
     "execution_count": 109,
     "metadata": {},
     "output_type": "execute_result"
    }
   ],
   "source": [
    "ner_processed_df['label'].value_counts()"
   ]
  },
  {
   "cell_type": "code",
   "execution_count": 110,
   "id": "442e7e57",
   "metadata": {},
   "outputs": [
    {
     "data": {
      "text/plain": [
       "Queen               4\n",
       "Rishi Sunak         4\n",
       "Boris Johnson       4\n",
       "Rory McIlroy        4\n",
       "Jurgen Klopp        4\n",
       "                   ..\n",
       "Jason Manford 's    1\n",
       "Emi Martinez 's     1\n",
       "Petr Pavel          1\n",
       "Andrej Babis        1\n",
       "Aanoch Mor          1\n",
       "Name: token, Length: 440, dtype: int64"
      ]
     },
     "execution_count": 110,
     "metadata": {},
     "output_type": "execute_result"
    }
   ],
   "source": [
    "ner_raw_df.loc[(ner_raw_df['label'] == 'PERSON'), 'token'].value_counts()"
   ]
  },
  {
   "cell_type": "code",
   "execution_count": 114,
   "id": "57a2d363",
   "metadata": {},
   "outputs": [
    {
     "data": {
      "text/plain": [
       "boris johnson                                        6\n",
       "kate                                                 3\n",
       "erik ten                                             2\n",
       "harry kane                                           2\n",
       "vladimir putin                                       2\n",
       "                                                    ..\n",
       "jadon sancho                                         1\n",
       "joe clarke                                           1\n",
       "daniel lewis                                         1\n",
       "ed davey                                             1\n",
       "alison van uytvanck first appearance centre court    1\n",
       "Name: token, Length: 195, dtype: int64"
      ]
     },
     "execution_count": 114,
     "metadata": {},
     "output_type": "execute_result"
    }
   ],
   "source": [
    "ner_processed_df.loc[(ner_processed_df['label'] == 'PERSON'), 'token'].value_counts()"
   ]
  },
  {
   "cell_type": "code",
   "execution_count": null,
   "id": "aa34582f",
   "metadata": {},
   "outputs": [],
   "source": []
  }
 ],
 "metadata": {
  "kernelspec": {
   "display_name": "Python 3 (ipykernel)",
   "language": "python",
   "name": "python3"
  },
  "language_info": {
   "codemirror_mode": {
    "name": "ipython",
    "version": 3
   },
   "file_extension": ".py",
   "mimetype": "text/x-python",
   "name": "python",
   "nbconvert_exporter": "python",
   "pygments_lexer": "ipython3",
   "version": "3.9.12"
  }
 },
 "nbformat": 4,
 "nbformat_minor": 5
}
